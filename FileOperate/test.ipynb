{
 "cells": [
  {
   "cell_type": "markdown",
   "source": [
    "## 相似图片去重"
   ],
   "metadata": {
    "collapsed": false
   }
  },
  {
   "cell_type": "code",
   "execution_count": null,
   "metadata": {
    "collapsed": true
   },
   "outputs": [],
   "source": [
    "import os\n",
    "import cv2\n",
    "import numpy as np"
   ]
  },
  {
   "cell_type": "code",
   "execution_count": null,
   "outputs": [],
   "source": [
    "images_dir = r'D:\\ProgramData\\Temp\\BP3730-2\\L N'\n",
    "n = 64  # 重设大小后的图片大小（n x n）\n",
    "beta = 0.8  # 相关系数阈值"
   ],
   "metadata": {
    "collapsed": false
   }
  },
  {
   "cell_type": "code",
   "execution_count": null,
   "outputs": [],
   "source": [
    "# Step 1: 获取图片路径列表\n",
    "images_path_list = [os.path.join(images_dir, filename) for filename in os.listdir(images_dir)]"
   ],
   "metadata": {
    "collapsed": false
   }
  },
  {
   "cell_type": "code",
   "execution_count": null,
   "outputs": [],
   "source": [
    "# Step 2: 读取并resize图片，并形成二维数组\n",
    "images = [(cv2.resize((cv2.imdecode(np.fromfile(image_path, np.uint8), 0)), (n, n))).ravel() for image_path in images_path_list]"
   ],
   "metadata": {
    "collapsed": false
   }
  },
  {
   "cell_type": "code",
   "execution_count": null,
   "outputs": [],
   "source": [
    "# Step 3: 计算相关系数,并将对角线元素设为0\n",
    "corr_matrix = np.corrcoef(images)\n",
    "np.fill_diagonal(corr_matrix, 0)"
   ],
   "metadata": {
    "collapsed": false
   }
  },
  {
   "cell_type": "code",
   "execution_count": null,
   "outputs": [],
   "source": [
    "# Step 4: 找到相关系数大于beta的相似图片\n",
    "similar_images = np.argwhere(corr_matrix > beta)"
   ],
   "metadata": {
    "collapsed": false
   }
  },
  {
   "cell_type": "code",
   "execution_count": null,
   "outputs": [],
   "source": [
    "# Step 5: 构建相似组\n",
    "groups = []\n",
    "for pair in similar_images:\n",
    "\tadded = False\n",
    "\tfor group in groups:\n",
    "\t\tif pair[0] in group or pair[1] in group:\n",
    "\t\t\tgroup.add(pair[0])\n",
    "\t\t\tgroup.add(pair[1])\n",
    "\t\t\tadded = True\n",
    "\t\t\tbreak\n",
    "\tif not added:\n",
    "\t\tgroups.append(set(pair))"
   ],
   "metadata": {
    "collapsed": false
   }
  },
  {
   "cell_type": "code",
   "execution_count": null,
   "outputs": [],
   "source": [
    "# Step 6: 删除相似组中的重复图片\n",
    "for group in groups:\n",
    "\tkeep_index = min(group)  # 保留相似组中的第一张图片\n",
    "\tfor index in group:\n",
    "\t\tif index != keep_index:\n",
    "\t\t\tos.remove(images_path_list[index])\n"
   ],
   "metadata": {
    "collapsed": false
   }
  },
  {
   "cell_type": "code",
   "execution_count": 3,
   "outputs": [],
   "source": [
    "import os\n",
    "\n",
    "path = r'D:\\ProgramData\\Temp\\[Marugaogaski]'\n",
    "for i in range(3):\n",
    "\tdir = os.path.join(path, '手' + str(i + 1))\n",
    "\tif not os.path.exists(dir):\n",
    "\t\tos.makedirs(dir)\n"
   ],
   "metadata": {
    "collapsed": false,
    "ExecuteTime": {
     "end_time": "2023-06-16T17:52:07.430496700Z",
     "start_time": "2023-06-16T17:52:07.417508Z"
    }
   }
  },
  {
   "cell_type": "code",
   "execution_count": 2,
   "outputs": [
    {
     "name": "stdout",
     "output_type": "stream",
     "text": [
      "[[1, 2, 3], [4, 5, 6], [7, 8]]\n"
     ]
    }
   ],
   "source": [
    "def divide_array_into_groups(arr, num_groups):\n",
    "    # 检查分组数量是否合理\n",
    "    if num_groups <= 0:\n",
    "        return \"Number of groups should be greater than 0.\"\n",
    "\n",
    "    # 计算每个分组的基本大小和余数\n",
    "    group_size = len(arr) // num_groups\n",
    "    remainder = len(arr) % num_groups\n",
    "\n",
    "    # 初始化结果列表和起始索引\n",
    "    result = []\n",
    "    start = 0\n",
    "\n",
    "    # 遍历分组数量\n",
    "    for _ in range(num_groups):\n",
    "        # 计算当前分组的结束索引，考虑余数\n",
    "        end = start + group_size + (1 if remainder > 0 else 0)\n",
    "\n",
    "        # 将当前分组添加到结果列表\n",
    "        result.append(arr[start:end])\n",
    "\n",
    "        # 更新起始索引和余数\n",
    "        start = end\n",
    "        remainder -= 1\n",
    "\n",
    "    # 返回分组后的结果列表\n",
    "    return result\n",
    "\n",
    "# 示例\n",
    "your_array = [1, 2, 3, 4, 5, 6, 7, 8]\n",
    "number_of_groups = 3\n",
    "result = divide_array_into_groups(your_array, number_of_groups)\n",
    "print(result)\n"
   ],
   "metadata": {
    "collapsed": false,
    "ExecuteTime": {
     "end_time": "2023-12-13T16:12:43.930342400Z",
     "start_time": "2023-12-13T16:12:43.899444800Z"
    }
   }
  },
  {
   "cell_type": "markdown",
   "source": [
    "## 文件去重"
   ],
   "metadata": {
    "collapsed": false
   }
  },
  {
   "cell_type": "code",
   "outputs": [
    {
     "ename": "KeyboardInterrupt",
     "evalue": "",
     "output_type": "error",
     "traceback": [
      "\u001B[1;31m---------------------------------------------------------------------------\u001B[0m",
      "\u001B[1;31mKeyboardInterrupt\u001B[0m                         Traceback (most recent call last)",
      "Cell \u001B[1;32mIn[2], line 23\u001B[0m\n\u001B[0;32m     21\u001B[0m grouped_files \u001B[38;5;241m=\u001B[39m defaultdict(\u001B[38;5;28mlist\u001B[39m)\n\u001B[0;32m     22\u001B[0m \u001B[38;5;28;01mfor\u001B[39;00m filename \u001B[38;5;129;01min\u001B[39;00m files:\n\u001B[1;32m---> 23\u001B[0m \tprefix, suffix \u001B[38;5;241m=\u001B[39m \u001B[43mparse_filename\u001B[49m\u001B[43m(\u001B[49m\u001B[43mfilename\u001B[49m\u001B[43m)\u001B[49m\n\u001B[0;32m     24\u001B[0m \t\u001B[38;5;28;01mif\u001B[39;00m prefix:\n\u001B[0;32m     25\u001B[0m \t\tgrouped_files[prefix]\u001B[38;5;241m.\u001B[39mappend((suffix, filename))\n",
      "Cell \u001B[1;32mIn[2], line 14\u001B[0m, in \u001B[0;36mparse_filename\u001B[1;34m(filename)\u001B[0m\n\u001B[0;32m     12\u001B[0m \u001B[38;5;28;01mdef\u001B[39;00m \u001B[38;5;21mparse_filename\u001B[39m(filename):\n\u001B[0;32m     13\u001B[0m \tmatch \u001B[38;5;241m=\u001B[39m re\u001B[38;5;241m.\u001B[39mmatch(\u001B[38;5;124mr\u001B[39m\u001B[38;5;124m'\u001B[39m\u001B[38;5;124m^(.*?)-(\u001B[39m\u001B[38;5;124m\\\u001B[39m\u001B[38;5;124md+)?$\u001B[39m\u001B[38;5;124m'\u001B[39m, filename)\n\u001B[1;32m---> 14\u001B[0m \t\u001B[38;5;28;01mif\u001B[39;00m \u001B[43mmatch\u001B[49m:\n\u001B[0;32m     15\u001B[0m \t\tprefix, suffix \u001B[38;5;241m=\u001B[39m match\u001B[38;5;241m.\u001B[39mgroups()\n\u001B[0;32m     16\u001B[0m \t\tsuffix \u001B[38;5;241m=\u001B[39m \u001B[38;5;28mint\u001B[39m(suffix) \u001B[38;5;28;01mif\u001B[39;00m suffix \u001B[38;5;28;01melse\u001B[39;00m \u001B[38;5;28;01mNone\u001B[39;00m\n",
      "Cell \u001B[1;32mIn[2], line 14\u001B[0m, in \u001B[0;36mparse_filename\u001B[1;34m(filename)\u001B[0m\n\u001B[0;32m     12\u001B[0m \u001B[38;5;28;01mdef\u001B[39;00m \u001B[38;5;21mparse_filename\u001B[39m(filename):\n\u001B[0;32m     13\u001B[0m \tmatch \u001B[38;5;241m=\u001B[39m re\u001B[38;5;241m.\u001B[39mmatch(\u001B[38;5;124mr\u001B[39m\u001B[38;5;124m'\u001B[39m\u001B[38;5;124m^(.*?)-(\u001B[39m\u001B[38;5;124m\\\u001B[39m\u001B[38;5;124md+)?$\u001B[39m\u001B[38;5;124m'\u001B[39m, filename)\n\u001B[1;32m---> 14\u001B[0m \t\u001B[38;5;28;01mif\u001B[39;00m \u001B[43mmatch\u001B[49m:\n\u001B[0;32m     15\u001B[0m \t\tprefix, suffix \u001B[38;5;241m=\u001B[39m match\u001B[38;5;241m.\u001B[39mgroups()\n\u001B[0;32m     16\u001B[0m \t\tsuffix \u001B[38;5;241m=\u001B[39m \u001B[38;5;28mint\u001B[39m(suffix) \u001B[38;5;28;01mif\u001B[39;00m suffix \u001B[38;5;28;01melse\u001B[39;00m \u001B[38;5;28;01mNone\u001B[39;00m\n",
      "File \u001B[1;32m_pydevd_bundle\\pydevd_cython_win32_310_64.pyx:1187\u001B[0m, in \u001B[0;36m_pydevd_bundle.pydevd_cython_win32_310_64.SafeCallWrapper.__call__\u001B[1;34m()\u001B[0m\n",
      "File \u001B[1;32m_pydevd_bundle\\pydevd_cython_win32_310_64.pyx:627\u001B[0m, in \u001B[0;36m_pydevd_bundle.pydevd_cython_win32_310_64.PyDBFrame.trace_dispatch\u001B[1;34m()\u001B[0m\n",
      "File \u001B[1;32m_pydevd_bundle\\pydevd_cython_win32_310_64.pyx:937\u001B[0m, in \u001B[0;36m_pydevd_bundle.pydevd_cython_win32_310_64.PyDBFrame.trace_dispatch\u001B[1;34m()\u001B[0m\n",
      "File \u001B[1;32m_pydevd_bundle\\pydevd_cython_win32_310_64.pyx:928\u001B[0m, in \u001B[0;36m_pydevd_bundle.pydevd_cython_win32_310_64.PyDBFrame.trace_dispatch\u001B[1;34m()\u001B[0m\n",
      "File \u001B[1;32m_pydevd_bundle\\pydevd_cython_win32_310_64.pyx:585\u001B[0m, in \u001B[0;36m_pydevd_bundle.pydevd_cython_win32_310_64.PyDBFrame.do_wait_suspend\u001B[1;34m()\u001B[0m\n",
      "File \u001B[1;32mD:\\Program Files\\JetBrains\\PyCharm 2023.3.4\\plugins\\python\\helpers\\pydev\\pydevd.py:1184\u001B[0m, in \u001B[0;36mPyDB.do_wait_suspend\u001B[1;34m(self, thread, frame, event, arg, send_suspend_message, is_unhandled_exception)\u001B[0m\n\u001B[0;32m   1181\u001B[0m         from_this_thread\u001B[38;5;241m.\u001B[39mappend(frame_id)\n\u001B[0;32m   1183\u001B[0m \u001B[38;5;28;01mwith\u001B[39;00m \u001B[38;5;28mself\u001B[39m\u001B[38;5;241m.\u001B[39m_threads_suspended_single_notification\u001B[38;5;241m.\u001B[39mnotify_thread_suspended(thread_id, stop_reason):\n\u001B[1;32m-> 1184\u001B[0m     \u001B[38;5;28;43mself\u001B[39;49m\u001B[38;5;241;43m.\u001B[39;49m\u001B[43m_do_wait_suspend\u001B[49m\u001B[43m(\u001B[49m\u001B[43mthread\u001B[49m\u001B[43m,\u001B[49m\u001B[43m \u001B[49m\u001B[43mframe\u001B[49m\u001B[43m,\u001B[49m\u001B[43m \u001B[49m\u001B[43mevent\u001B[49m\u001B[43m,\u001B[49m\u001B[43m \u001B[49m\u001B[43marg\u001B[49m\u001B[43m,\u001B[49m\u001B[43m \u001B[49m\u001B[43msuspend_type\u001B[49m\u001B[43m,\u001B[49m\u001B[43m \u001B[49m\u001B[43mfrom_this_thread\u001B[49m\u001B[43m)\u001B[49m\n",
      "File \u001B[1;32mD:\\Program Files\\JetBrains\\PyCharm 2023.3.4\\plugins\\python\\helpers\\pydev\\pydevd.py:1199\u001B[0m, in \u001B[0;36mPyDB._do_wait_suspend\u001B[1;34m(self, thread, frame, event, arg, suspend_type, from_this_thread)\u001B[0m\n\u001B[0;32m   1196\u001B[0m             \u001B[38;5;28mself\u001B[39m\u001B[38;5;241m.\u001B[39m_call_mpl_hook()\n\u001B[0;32m   1198\u001B[0m         \u001B[38;5;28mself\u001B[39m\u001B[38;5;241m.\u001B[39mprocess_internal_commands()\n\u001B[1;32m-> 1199\u001B[0m         \u001B[43mtime\u001B[49m\u001B[38;5;241;43m.\u001B[39;49m\u001B[43msleep\u001B[49m\u001B[43m(\u001B[49m\u001B[38;5;241;43m0.01\u001B[39;49m\u001B[43m)\u001B[49m\n\u001B[0;32m   1201\u001B[0m \u001B[38;5;28mself\u001B[39m\u001B[38;5;241m.\u001B[39mcancel_async_evaluation(get_current_thread_id(thread), \u001B[38;5;28mstr\u001B[39m(\u001B[38;5;28mid\u001B[39m(frame)))\n\u001B[0;32m   1203\u001B[0m \u001B[38;5;66;03m# process any stepping instructions\u001B[39;00m\n",
      "\u001B[1;31mKeyboardInterrupt\u001B[0m: "
     ]
    }
   ],
   "source": [
    "import os\n",
    "import re\n",
    "from collections import defaultdict\n",
    "\n",
    "# 假设文件都在当前目录下  \n",
    "directory = 'D:\\Temp'\n",
    "\n",
    "# 查找所有文件  \n",
    "files = os.listdir(directory)\n",
    "\n",
    "# 使用正则表达式匹配文件名中的前缀和数字后缀  \n",
    "def parse_filename(filename):\n",
    "\tmatch = re.match(r'^(.*?)-(\\d+)?$', filename)\n",
    "\tif match:\n",
    "\t\tprefix, suffix = match.groups()\n",
    "\t\tsuffix = int(suffix) if suffix else None\n",
    "\t\treturn prefix, suffix\n",
    "\treturn None, None\n",
    "\n",
    "# 对文件进行分类，按照前缀分组，并在每个组内按照后缀排序  \n",
    "grouped_files = defaultdict(list)\n",
    "for filename in files:\n",
    "\tprefix, suffix = parse_filename(filename)\n",
    "\tif prefix:\n",
    "\t\tgrouped_files[prefix].append((suffix, filename))\n",
    "\n",
    "\t# 遍历每个前缀组，保留最新文件并删除其余文件  \n",
    "for prefix, files_with_suffixes in grouped_files.items():\n",
    "\t# 按照后缀降序排序文件，没有后缀的文件排在最前面  \n",
    "\tsorted_files = sorted(files_with_suffixes, key=lambda x: x[0], reverse=True)\n",
    "\n",
    "\t# 保留最新的文件（即列表中第一个文件）并删除其余文件  \n",
    "\tlatest_file_info = sorted_files[0]\n",
    "\tlatest_suffix, latest_filename = latest_file_info\n",
    "\tfor suffix, filename in sorted_files[1:]:\n",
    "\t\tfile_path = os.path.join(directory, filename)\n",
    "\t\tos.remove(file_path)\n",
    "\t\tprint(f\"Deleted {file_path}\")\n",
    "\n",
    "\t\t# 如果需要，去除最新文件名的后缀  \n",
    "\tif latest_suffix is not None:\n",
    "\t\tbase_name, ext = os.path.splitext(latest_filename)\n",
    "\t\tnew_base_name = base_name.rsplit('-', 1)[0]  # 移除数字后缀  \n",
    "\t\tnew_filename = new_base_name + ext\n",
    "\t\told_file_path = os.path.join(directory, latest_filename)\n",
    "\t\tnew_file_path = os.path.join(directory, new_filename)\n",
    "\t\tos.rename(old_file_path, new_file_path)\n",
    "\t\tprint(f\"Renamed {old_file_path} to {new_file_path}\")"
   ],
   "metadata": {
    "collapsed": false,
    "ExecuteTime": {
     "end_time": "2024-03-28T00:40:02.351705Z",
     "start_time": "2024-03-28T00:02:29.036723Z"
    }
   },
   "execution_count": 2
  }
 ],
 "metadata": {
  "kernelspec": {
   "display_name": "Python 3",
   "language": "python",
   "name": "python3"
  },
  "language_info": {
   "codemirror_mode": {
    "name": "ipython",
    "version": 2
   },
   "file_extension": ".py",
   "mimetype": "text/x-python",
   "name": "python",
   "nbconvert_exporter": "python",
   "pygments_lexer": "ipython2",
   "version": "2.7.6"
  }
 },
 "nbformat": 4,
 "nbformat_minor": 0
}
